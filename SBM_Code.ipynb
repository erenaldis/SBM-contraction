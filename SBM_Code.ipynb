{
 "cells": [
  {
   "cell_type": "code",
   "execution_count": 414,
   "metadata": {},
   "outputs": [
    {
     "name": "stdout",
     "output_type": "stream",
     "text": [
      "Populating the interactive namespace from numpy and matplotlib\n"
     ]
    },
    {
     "name": "stderr",
     "output_type": "stream",
     "text": [
      "/Users/erenaldis/anaconda/lib/python3.6/site-packages/IPython/core/magics/pylab.py:161: UserWarning: pylab import has clobbered these variables: ['f']\n",
      "`%matplotlib` prevents importing * from pylab and numpy\n",
      "  \"\\n`%matplotlib` prevents importing * from pylab and numpy\"\n"
     ]
    }
   ],
   "source": [
    "%pylab inline"
   ]
  },
  {
   "cell_type": "code",
   "execution_count": 455,
   "metadata": {
    "collapsed": true
   },
   "outputs": [],
   "source": [
    "from collections import Counter\n",
    "def even(C):\n",
    "    cc = list(Counter(C).values())\n",
    "    for i in cc:\n",
    "        if i % 2 != 0:\n",
    "            return False\n",
    "    return True"
   ]
  },
  {
   "cell_type": "code",
   "execution_count": 466,
   "metadata": {},
   "outputs": [],
   "source": [
    "n = 1000\n",
    "d = 4\n",
    "np.random.seed(3)\n",
    "p = np.random.dirichlet(np.ones(d))\n",
    "A = np.random.uniform(0,1, size=(d, d))\n",
    "B = (A+A.T)/2"
   ]
  },
  {
   "cell_type": "code",
   "execution_count": 467,
   "metadata": {},
   "outputs": [
    {
     "data": {
      "text/plain": [
       "(array([ 0.25894112,  0.39846938,  0.11122949,  0.23136001]),\n",
       " array([[ 0.89294695,  0.47388015,  0.38736468,  0.11561238],\n",
       "        [ 0.47388015,  0.44080984,  0.15418175,  0.50784366],\n",
       "        [ 0.38736468,  0.15418175,  0.6762549 ,  0.42505763],\n",
       "        [ 0.11561238,  0.50784366,  0.42505763,  0.4151012 ]]))"
      ]
     },
     "execution_count": 467,
     "metadata": {},
     "output_type": "execute_result"
    }
   ],
   "source": [
    "p, B"
   ]
  },
  {
   "cell_type": "code",
   "execution_count": 468,
   "metadata": {},
   "outputs": [],
   "source": [
    "g = np.arange(len(p))\n",
    "#community vector\n",
    "C = np.random.choice(g, size=n, p = p)\n",
    "while even(C) == False:\n",
    "    C = np.random.choice(g, size=n, p = p)\n",
    "\n",
    "#adjacency matrix\n",
    "A = np.zeros((n, n))\n",
    "for i in range(n):\n",
    "    for j in range(n):\n",
    "        if i > j:\n",
    "            c1 = C[i]\n",
    "            c2 = C[j]\n",
    "            A[i,j] = np.random.binomial(n=1, p=B[c1, c2])\n",
    "            A[j, i] = A[i, j]\n",
    "            \n"
   ]
  },
  {
   "cell_type": "code",
   "execution_count": 490,
   "metadata": {},
   "outputs": [
    {
     "name": "stderr",
     "output_type": "stream",
     "text": [
      "/Users/erenaldis/anaconda/lib/python3.6/site-packages/tqdm/_monitor.py:89: TqdmSynchronisationWarning: Set changed size during iteration (see https://github.com/tqdm/tqdm/issues/481)\n",
      "  TqdmSynchronisationWarning)\n"
     ]
    }
   ],
   "source": [
    "def contract(C, A, d):\n",
    "    Anew = np.zeros((int(n/2), int(n/2)))\n",
    "    groups = {}\n",
    "    for i in np.arange(d):\n",
    "        groups[i] = []\n",
    "    for i in range(len(C)):\n",
    "        groups[C[i]].append(i)\n",
    "    \n",
    "    pairs = {}\n",
    "    Cnew = []\n",
    "    for k in list(groups.keys()):\n",
    "        if len(groups[k]) != 0:\n",
    "            pairs[k] = []\n",
    "            a = np.random.choice(groups[k], size=len(groups[k]), replace=False)\n",
    "            i = 0\n",
    "            while i < (len(a)-1):\n",
    "                pairs[k].append((a[i], a[i+1]))\n",
    "                i += 2\n",
    "            Cnew += [k]*len(pairs[k])\n",
    "    Cnew = np.array(Cnew)\n",
    "    \n",
    "    tups = combinevals(pairs)\n",
    "\n",
    "    for it in range(len(tups)):\n",
    "        i = tups[it][0]\n",
    "        j = tups[it][1]\n",
    "        for jt in range(it + 1, len(tups)):\n",
    "            r = tups[jt][0]\n",
    "            t = tups[jt][1]\n",
    "            if (A[i, r] == 1) or (A[i, t] == 1) or (A[j, r] == 1) or (A[j, t] == 1):\n",
    "                Anew[it, jt] = 1\n",
    "                Anew[jt, it] = 1\n",
    "            else:\n",
    "                Anew[jt, it] = 0 \n",
    "    return Cnew, Anew, d\n"
   ]
  },
  {
   "cell_type": "code",
   "execution_count": 470,
   "metadata": {},
   "outputs": [],
   "source": [
    "Cnew, Anew, dnew = contract(C, A, d)"
   ]
  },
  {
   "cell_type": "code",
   "execution_count": 471,
   "metadata": {
    "collapsed": true
   },
   "outputs": [],
   "source": [
    "def p_estimate(Cnew, dnew):\n",
    "    p = np.zeros(dnew)\n",
    "    for k in list(Counter(Cnew).keys()):\n",
    "        p[k] = Counter(Cnew)[k] / len(Cnew)\n",
    "    return p"
   ]
  },
  {
   "cell_type": "code",
   "execution_count": 472,
   "metadata": {},
   "outputs": [
    {
     "data": {
      "text/plain": [
       "(array([ 0.272,  0.4  ,  0.114,  0.214]),\n",
       " array([ 0.25894112,  0.39846938,  0.11122949,  0.23136001]))"
      ]
     },
     "execution_count": 472,
     "metadata": {},
     "output_type": "execute_result"
    }
   ],
   "source": [
    "p_est = p_estimate(Cnew, dnew)\n",
    "p_est, p"
   ]
  },
  {
   "cell_type": "code",
   "execution_count": 473,
   "metadata": {
    "collapsed": true
   },
   "outputs": [],
   "source": [
    "def B_estimate(Cnew, Anew, dnew):\n",
    "    \n",
    "    inds = {}\n",
    "    for i in np.unique(Cnew):\n",
    "        inds[i] = np.where(Cnew == i)[0]\n",
    "    #for i in list(inds.keys()):\n",
    "    B_est = np.zeros((dnew, dnew))\n",
    "    for i in list(inds.keys()):\n",
    "        s = 0\n",
    "        comp = [(x, y) for x in inds[i] for y in inds[i]]\n",
    "        for (x,y) in comp:\n",
    "            s += Anew[x, y]\n",
    "        B_est[i,i] = s/(len(inds[i])*(len(inds[i])-1))\n",
    "\n",
    "    #Bij\n",
    "    for i in list(inds.keys()):\n",
    "        for j in list(inds.keys()):\n",
    "            if i !=j:\n",
    "                s = 0\n",
    "                comp = [(x, y) for x in inds[i] for y in inds[j]]\n",
    "                for (x,y) in comp:\n",
    "                    s += Anew[x, y]\n",
    "                B_est[i,j] = s/(len(inds[i])*(len(inds[j])))  \n",
    "    return B_est"
   ]
  },
  {
   "cell_type": "code",
   "execution_count": 474,
   "metadata": {
    "collapsed": true
   },
   "outputs": [],
   "source": [
    "def Bnew(B):\n",
    "    Bnew = np.zeros(shape(B))\n",
    "    for i in range(len(B)):\n",
    "        for j in range(i, len(B)):\n",
    "            Bnew[i,j] = 1 - (1-B[i,j])**4\n",
    "            Bnew[j,i] = Bnew[i,j]\n",
    "    return Bnew"
   ]
  },
  {
   "cell_type": "code",
   "execution_count": 475,
   "metadata": {},
   "outputs": [
    {
     "name": "stdout",
     "output_type": "stream",
     "text": [
      "[ 0.272  0.4    0.114  0.214] [ 0.25894112  0.39846938  0.11122949  0.23136001]\n",
      "[[ 0.99978214  0.92492647  0.85900413  0.39231721]\n",
      " [ 0.92492647  0.90095477  0.48701754  0.94037383]\n",
      " [ 0.85900413  0.48701754  0.98245614  0.88817839]\n",
      " [ 0.39231721  0.94037383  0.88817839  0.87956269]] [[ 0.99986866  0.9233806   0.85913337  0.38825473]\n",
      " [ 0.9233806   0.90222269  0.48819065  0.94133051]\n",
      " [ 0.85913337  0.48819065  0.98901468  0.89073093]\n",
      " [ 0.38825473  0.94133051  0.89073093  0.88296307]]\n"
     ]
    }
   ],
   "source": [
    "print(p_estimate(Cnew, dnew), p)\n",
    "print(B_estimate(Cnew, Anew, dnew), Bnew(B))"
   ]
  },
  {
   "cell_type": "code",
   "execution_count": 478,
   "metadata": {
    "collapsed": true
   },
   "outputs": [],
   "source": [
    "n = 1000\n",
    "d = 2\n",
    "p = np.random.dirichlet(np.ones(d))\n",
    "A = np.random.uniform(0,1, size=(d, d))\n",
    "B = (A+A.T)/2\n",
    "def gen_estimates1(n, d, p, B):\n",
    "    g = np.arange(d)\n",
    "    #community vector\n",
    "    C = np.random.choice(g, size=int(n), p = p)\n",
    "    while even(C) == False:\n",
    "        C = np.random.choice(g, size=int(n), p = p)\n",
    "\n",
    "    #adjacency matrix\n",
    "    A = np.zeros((n, n))\n",
    "    for i in range(n):\n",
    "        for j in range(n):\n",
    "            if i > j:\n",
    "                c1 = C[i]\n",
    "                c2 = C[j]\n",
    "                A[i,j] = np.random.binomial(n=1, p=B[c1, c2])\n",
    "                A[j, i] = A[i, j]\n",
    "    Cnew, Anew, dnew = contract(C, A, d)\n",
    "    p_est = p_estimate(Cnew, dnew)\n",
    "    B_est = B_estimate(Cnew, Anew, dnew)\n",
    "    B_new = Bnew(B)\n",
    "    return np.linalg.norm(p_est - p), np.linalg.norm(B_est - B_new)"
   ]
  },
  {
   "cell_type": "code",
   "execution_count": 491,
   "metadata": {},
   "outputs": [
    {
     "data": {
      "application/vnd.jupyter.widget-view+json": {
       "model_id": "98bc3efdf3df433da9dc13ce61d4537e"
      }
     },
     "metadata": {},
     "output_type": "display_data"
    },
    {
     "name": "stderr",
     "output_type": "stream",
     "text": [
      "/Users/erenaldis/anaconda/lib/python3.6/site-packages/ipykernel_launcher.py:13: RuntimeWarning: invalid value encountered in double_scalars\n",
      "  del sys.path[0]\n",
      "/Users/erenaldis/anaconda/lib/python3.6/site-packages/tqdm/_monitor.py:89: TqdmSynchronisationWarning: Set changed size during iteration (see https://github.com/tqdm/tqdm/issues/481)\n",
      "  TqdmSynchronisationWarning)\n"
     ]
    }
   ],
   "source": [
    "n_ = [10,100,200, 400, 800, 1000]\n",
    "pnorm = []\n",
    "Bnorm=[]\n",
    "d = 2\n",
    "p = np.random.dirichlet(np.ones(d))\n",
    "A = np.random.uniform(0,1, size=(d, d))\n",
    "B = (A+A.T)/2\n",
    "from tqdm import tqdm_notebook as tqdm\n",
    "for i in (range(len(n_))):\n",
    "    pn_it = []\n",
    "    Bn_it = []\n",
    "    for it in tqdm(range(200)):\n",
    "        pn, Bn = gen_estimates1(n_[i], d, p, B)\n",
    "        pn_it.append(pn)\n",
    "        Bn_it.append(Bn)\n",
    "    pnorm.append(np.mean(pn_it))\n",
    "    Bnorm.append(np.mean(Bn_it))"
   ]
  },
  {
   "cell_type": "code",
   "execution_count": 492,
   "metadata": {},
   "outputs": [
    {
     "data": {
      "text/plain": [
       "<matplotlib.text.Text at 0x118b6de10>"
      ]
     },
     "execution_count": 492,
     "metadata": {},
     "output_type": "execute_result"
    },
    {
     "data": {
      "image/png": "[encoded data removed]",
      "text/plain": [
       "<matplotlib.figure.Figure at 0x11c13f7f0>"
      ]
     },
     "metadata": {},
     "output_type": "display_data"
    },
    {
     "name": "stderr",
     "output_type": "stream",
     "text": [
      "/Users/erenaldis/anaconda/lib/python3.6/site-packages/tqdm/_monitor.py:89: TqdmSynchronisationWarning: Set changed size during iteration (see https://github.com/tqdm/tqdm/issues/481)\n",
      "  TqdmSynchronisationWarning)\n"
     ]
    }
   ],
   "source": [
    "plot(n_, pnorm)\n",
    "title('Euclidian Norm of P_estimate - P (200 iterations)')\n",
    "xlabel('n')\n",
    "ylabel('Euclidian difference')"
   ]
  },
  {
   "cell_type": "code",
   "execution_count": 493,
   "metadata": {},
   "outputs": [
    {
     "data": {
      "text/plain": [
       "<matplotlib.text.Text at 0x118ce8be0>"
      ]
     },
     "execution_count": 493,
     "metadata": {},
     "output_type": "execute_result"
    },
    {
     "data": {
      "image/png": "[encoded data removed]",
      "text/plain": [
       "<matplotlib.figure.Figure at 0x118d164a8>"
      ]
     },
     "metadata": {},
     "output_type": "display_data"
    },
    {
     "name": "stderr",
     "output_type": "stream",
     "text": [
      "/Users/erenaldis/anaconda/lib/python3.6/site-packages/tqdm/_monitor.py:89: TqdmSynchronisationWarning: Set changed size during iteration (see https://github.com/tqdm/tqdm/issues/481)\n",
      "  TqdmSynchronisationWarning)\n"
     ]
    }
   ],
   "source": [
    "plot(n_, Bnorm)\n",
    "title('Frobenius Norm of B_estimate - B (200 iterations)')\n",
    "xlabel('n')\n",
    "ylabel('Frobenius Norm')"
   ]
  }
 ],
 "metadata": {
  "kernelspec": {
   "display_name": "Python 3",
   "language": "python",
   "name": "python3"
  },
  "language_info": {
   "codemirror_mode": {
    "name": "ipython",
    "version": 3
   },
   "file_extension": ".py",
   "mimetype": "text/x-python",
   "name": "python",
   "nbconvert_exporter": "python",
   "pygments_lexer": "ipython3",
   "version": "3.6.1"
  }
 },
 "nbformat": 4,
 "nbformat_minor": 2
}
